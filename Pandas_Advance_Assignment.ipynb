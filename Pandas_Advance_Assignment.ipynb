{
  "nbformat": 4,
  "nbformat_minor": 0,
  "metadata": {
    "colab": {
      "provenance": []
    },
    "kernelspec": {
      "name": "python3",
      "display_name": "Python 3"
    },
    "language_info": {
      "name": "python"
    }
  },
  "cells": [
    {
      "cell_type": "markdown",
      "source": [
        "# **Q1**\n",
        "\n",
        "**List any five functions of the pandas library with execution.**\n",
        "\n",
        "**Answer:**\n",
        "\n",
        " * read_csv():\n"
      ],
      "metadata": {
        "id": "0nN8oOPHcJoN"
      }
    },
    {
      "cell_type": "code",
      "source": [
        "import pandas as pd"
      ],
      "metadata": {
        "id": "q9gQ9G3ToWos"
      },
      "execution_count": 1,
      "outputs": []
    },
    {
      "cell_type": "code",
      "source": [
        "# Read a CSV file and create a DataFrame\n",
        "df = pd.read_csv('data.csv')\n",
        "\n",
        "# Print the DataFrame\n",
        "print(df)"
      ],
      "metadata": {
        "id": "6L75JJZ9oVZv"
      },
      "execution_count": null,
      "outputs": []
    },
    {
      "cell_type": "markdown",
      "source": [
        " * dropna():"
      ],
      "metadata": {
        "id": "c4PfW7stoaG1"
      }
    },
    {
      "cell_type": "code",
      "source": [
        "data = {'Name': ['John', 'Emma', 'Peter', None],\n",
        "        'Age': [25, 28, None, 30],\n",
        "        'City': ['New York', 'London', 'Paris', '']}\n",
        "df = pd.DataFrame(data)\n",
        "\n",
        "# Drop rows with missing values\n",
        "df_dropped = df.dropna()\n",
        "\n",
        "# Print the DataFrame after dropping missing values\n",
        "print(df_dropped)"
      ],
      "metadata": {
        "colab": {
          "base_uri": "https://localhost:8080/"
        },
        "id": "6g7XgJhWoZz0",
        "outputId": "6e0fdb44-9f04-41d7-feeb-cd162616d72b"
      },
      "execution_count": 2,
      "outputs": [
        {
          "output_type": "stream",
          "name": "stdout",
          "text": [
            "   Name   Age      City\n",
            "0  John  25.0  New York\n",
            "1  Emma  28.0    London\n"
          ]
        }
      ]
    },
    {
      "cell_type": "markdown",
      "source": [
        " * groupby():"
      ],
      "metadata": {
        "id": "7QUIuhfzoqbi"
      }
    },
    {
      "cell_type": "code",
      "source": [
        "# Group the DataFrame by 'City' and calculate the average age in each city\n",
        "grouped_df = df.groupby('City')['Age'].mean()\n",
        "\n",
        "# Print the grouped DataFrame\n",
        "print(grouped_df)"
      ],
      "metadata": {
        "colab": {
          "base_uri": "https://localhost:8080/"
        },
        "id": "gFsCLo9oohsM",
        "outputId": "e83e20b3-145e-47bf-c93d-541111dab720"
      },
      "execution_count": 3,
      "outputs": [
        {
          "output_type": "stream",
          "name": "stdout",
          "text": [
            "City\n",
            "            30.0\n",
            "London      28.0\n",
            "New York    25.0\n",
            "Paris        NaN\n",
            "Name: Age, dtype: float64\n"
          ]
        }
      ]
    },
    {
      "cell_type": "markdown",
      "source": [
        " * merge():"
      ],
      "metadata": {
        "id": "r3UB-HrOooIN"
      }
    },
    {
      "cell_type": "code",
      "source": [
        "import pandas as pd\n",
        "\n",
        "# Create two DataFrames\n",
        "df1 = pd.DataFrame({'ID': [1, 2, 3], 'Name': ['John', 'Emma', 'Peter']})\n",
        "df2 = pd.DataFrame({'ID': [2, 3, 4], 'City': ['London', 'Paris', 'Sydney']})\n",
        "\n",
        "# Merge the DataFrames based on the 'ID' column\n",
        "merged_df = pd.merge(df1, df2, on='ID')\n",
        "\n",
        "# Print the merged DataFrame\n",
        "print(merged_df)"
      ],
      "metadata": {
        "colab": {
          "base_uri": "https://localhost:8080/"
        },
        "id": "vr98VoY5omxZ",
        "outputId": "360a2d4c-32cb-4d22-bb51-9b229cb84495"
      },
      "execution_count": 4,
      "outputs": [
        {
          "output_type": "stream",
          "name": "stdout",
          "text": [
            "   ID   Name    City\n",
            "0   2   Emma  London\n",
            "1   3  Peter   Paris\n"
          ]
        }
      ]
    },
    {
      "cell_type": "markdown",
      "source": [
        " * to_csv():"
      ],
      "metadata": {
        "id": "grRE4pl8ozLN"
      }
    },
    {
      "cell_type": "code",
      "source": [
        "# Write the DataFrame to a CSV file\n",
        "df.to_csv('output.csv', index=False)"
      ],
      "metadata": {
        "id": "HKsFgS5do0qM"
      },
      "execution_count": 5,
      "outputs": []
    },
    {
      "cell_type": "markdown",
      "source": [
        "# **Q2**\n",
        "\n",
        "**Q2. Given a Pandas DataFrame df with columns 'A', 'B', and 'C', write a Python function to re-index the\n",
        "DataFrame with a new index that starts from 1 and increments by 2 for each row.**\n",
        "\n",
        "\n",
        "**Answer:**\n",
        "\n"
      ],
      "metadata": {
        "id": "zv4ERfdCcVO0"
      }
    },
    {
      "cell_type": "code",
      "source": [
        "def reindex_dataframe(df):\n",
        "    new_index = pd.Index(range(1, len(df) * 2, 2))  # Create a new index starting from 1 and incrementing by 2\n",
        "    df = df.set_index(new_index)  # Set the new index on the DataFrame\n",
        "    return df\n",
        "\n",
        "# Example usage\n",
        "data = {'A': [10, 20, 30],\n",
        "        'B': [40, 50, 60],\n",
        "        'C': [70, 80, 90]}\n",
        "df = pd.DataFrame(data)\n",
        "\n",
        "# Print the original DataFrame\n",
        "print(\"Original DataFrame:\")\n",
        "print(df)\n",
        "\n",
        "# Re-index the DataFrame\n",
        "df_reindexed = reindex_dataframe(df)\n",
        "\n",
        "# Print the re-indexed DataFrame\n",
        "print(\"\\nRe-indexed DataFrame:\")\n",
        "print(df_reindexed)"
      ],
      "metadata": {
        "colab": {
          "base_uri": "https://localhost:8080/"
        },
        "id": "hMvhuyXopQnU",
        "outputId": "7d842107-f5ef-4ea0-8648-53f2c039e0fa"
      },
      "execution_count": 6,
      "outputs": [
        {
          "output_type": "stream",
          "name": "stdout",
          "text": [
            "Original DataFrame:\n",
            "    A   B   C\n",
            "0  10  40  70\n",
            "1  20  50  80\n",
            "2  30  60  90\n",
            "\n",
            "Re-indexed DataFrame:\n",
            "    A   B   C\n",
            "1  10  40  70\n",
            "3  20  50  80\n",
            "5  30  60  90\n"
          ]
        }
      ]
    },
    {
      "cell_type": "markdown",
      "source": [
        "# **Q3**\n",
        "\n",
        "**You have a Pandas DataFrame df with a column named 'Values'. Write a Python function that iterates over the DataFrame and calculates the sum of the first three values in the 'Values' column. The function should print the sum to the console.**\n",
        "\n",
        "\n",
        "**Answer:**\n",
        "\n"
      ],
      "metadata": {
        "id": "B03jhNgtcUTQ"
      }
    },
    {
      "cell_type": "code",
      "source": [
        "def calculate_sum(df):\n",
        "    sum_values = 0\n",
        "    count = 0\n",
        "\n",
        "    for index, row in df.iterrows():\n",
        "        if count < 3:\n",
        "            sum_values += row['Values']\n",
        "            count += 1\n",
        "        else:\n",
        "            break\n",
        "\n",
        "    print(\"Sum of the first three values:\", sum_values)\n",
        "\n",
        "# Example usage\n",
        "data = {'Values': [10, 20, 30, 40, 50]}\n",
        "df = pd.DataFrame(data)\n",
        "\n",
        "# Print the original DataFrame\n",
        "print(\"Original DataFrame:\")\n",
        "print(df)\n",
        "\n",
        "# Calculate the sum of the first three values\n",
        "calculate_sum(df)\n"
      ],
      "metadata": {
        "colab": {
          "base_uri": "https://localhost:8080/"
        },
        "id": "vBRAy7yLpm_M",
        "outputId": "0019d9e1-91a5-4283-a4fa-0f29501afa11"
      },
      "execution_count": 7,
      "outputs": [
        {
          "output_type": "stream",
          "name": "stdout",
          "text": [
            "Original DataFrame:\n",
            "   Values\n",
            "0      10\n",
            "1      20\n",
            "2      30\n",
            "3      40\n",
            "4      50\n",
            "Sum of the first three values: 60\n"
          ]
        }
      ]
    },
    {
      "cell_type": "markdown",
      "source": [
        "# **Q4**\n",
        "\n",
        "**Given a Pandas DataFrame df with a column 'Text', write a Python function to create a new column 'Word_Count' that contains the number of words in each row of the 'Text' column.**\n",
        "\n",
        "**Answer:**\n",
        "\n"
      ],
      "metadata": {
        "id": "liCQbUQqcWEO"
      }
    },
    {
      "cell_type": "code",
      "source": [
        "def add_word_count_column(df):\n",
        "    df['Word_Count'] = df['Text'].apply(lambda x: len(str(x).split()))\n",
        "    return df\n",
        "\n",
        "# Example usage\n",
        "data = {'Text': ['Hello, how are you?', 'I am doing well.', 'Python programming is fun!']}\n",
        "df = pd.DataFrame(data)\n",
        "\n",
        "# Print the original DataFrame\n",
        "print(\"Original DataFrame:\")\n",
        "print(df)\n",
        "\n",
        "# Add the 'Word_Count' column\n",
        "df_with_word_count = add_word_count_column(df)\n",
        "\n",
        "# Print the DataFrame with the 'Word_Count' column\n",
        "print(\"\\nDataFrame with Word_Count column:\")\n",
        "print(df_with_word_count)"
      ],
      "metadata": {
        "colab": {
          "base_uri": "https://localhost:8080/"
        },
        "id": "09h7miScsa1Y",
        "outputId": "3a1c7d8e-ba92-4b61-8228-6f957a9ce063"
      },
      "execution_count": 8,
      "outputs": [
        {
          "output_type": "stream",
          "name": "stdout",
          "text": [
            "Original DataFrame:\n",
            "                         Text\n",
            "0         Hello, how are you?\n",
            "1            I am doing well.\n",
            "2  Python programming is fun!\n",
            "\n",
            "DataFrame with Word_Count column:\n",
            "                         Text  Word_Count\n",
            "0         Hello, how are you?           4\n",
            "1            I am doing well.           4\n",
            "2  Python programming is fun!           4\n"
          ]
        }
      ]
    },
    {
      "cell_type": "markdown",
      "source": [
        "\n",
        "# **Q5**\n",
        "\n",
        "**How are DataFrame.size() and DataFrame.shape() different?**\n",
        "\n",
        "**Answer:**\n",
        "\n",
        "DataFrame.size(): This method returns the total number of elements in the DataFrame, which is equal to the number of rows multiplied by the number of columns. It calculates the size as the product of the DataFrame's shape (nrows, ncols). The size() method does not consider the data type of the elements; it simply returns the count of all elements in the DataFrame.\n",
        "\n",
        "DataFrame.shape(): This method returns a tuple representing the dimensions of the DataFrame. The shape is represented as (nrows, ncols), where nrows is the number of rows and ncols is the number of columns in the DataFrame. It provides the number of rows and columns of the DataFrame based on its structure."
      ],
      "metadata": {
        "id": "_xz9rQ_GcXC5"
      }
    },
    {
      "cell_type": "code",
      "source": [
        "data = {'A': [1, 2, 3],\n",
        "        'B': [4, 5, 6],\n",
        "        'C': [7, 8, 9]}\n",
        "df = pd.DataFrame(data)\n",
        "\n",
        "# Size of the DataFrame\n",
        "print(\"Size of the DataFrame:\", df.size)\n",
        "\n",
        "# Shape of the DataFrame\n",
        "print(\"Shape of the DataFrame:\", df.shape)"
      ],
      "metadata": {
        "colab": {
          "base_uri": "https://localhost:8080/"
        },
        "id": "3ShuiVs-tErK",
        "outputId": "254a68e1-e62b-42b5-d8d2-343039de8122"
      },
      "execution_count": 9,
      "outputs": [
        {
          "output_type": "stream",
          "name": "stdout",
          "text": [
            "Size of the DataFrame: 9\n",
            "Shape of the DataFrame: (3, 3)\n"
          ]
        }
      ]
    },
    {
      "cell_type": "markdown",
      "source": [
        "# **Q6**\n",
        "\n",
        "**Which function of pandas do we use to read an excel file?**\n",
        "\n",
        "**Answer:**\n",
        "\n",
        "To read an Excel file in pandas, you can use the pandas.read_excel() function. It is specifically designed to read data from Excel files and create a DataFrame.\n"
      ],
      "metadata": {
        "id": "KgZEsqZHswgi"
      }
    },
    {
      "cell_type": "code",
      "source": [
        "import pandas as pd\n",
        "\n",
        "# Read the Excel file\n",
        "df = pd.read_excel('data.xlsx')\n",
        "\n",
        "# Print the DataFrame\n",
        "print(df)"
      ],
      "metadata": {
        "id": "hIX45cgEtXB9"
      },
      "execution_count": null,
      "outputs": []
    },
    {
      "cell_type": "markdown",
      "source": [
        "# **Q7**\n",
        "\n",
        "**You have a Pandas DataFrame df that contains a column named 'Email' that contains emailaddresses in the format 'username@domain.com'. Write a Python function that creates a new column 'Username' in df that contains only the username part of each email address.**\n",
        "\n",
        "**Answer:**\n",
        "\n"
      ],
      "metadata": {
        "id": "apNqvdhzszi-"
      }
    },
    {
      "cell_type": "code",
      "source": [
        "def extract_username(df):\n",
        "    df['Username'] = df['Email'].str.split('@').str[0]\n",
        "    return df\n",
        "\n",
        "data = {'Email': ['john.doe@example.com', 'jane.smith@example.com', 'james.brown@example.com']}\n",
        "df = pd.DataFrame(data)\n",
        "\n",
        "print(\"Original DataFrame:\")\n",
        "print(df)\n",
        "\n",
        "# Extract the username and create the 'Username' column\n",
        "df_with_username = extract_username(df)\n",
        "\n",
        "# Print the DataFrame with the 'Username' column\n",
        "print(\"\\nDataFrame with Username column:\")\n",
        "print(df_with_username)"
      ],
      "metadata": {
        "colab": {
          "base_uri": "https://localhost:8080/"
        },
        "id": "db0vnVoltku2",
        "outputId": "a9c22934-35ca-4484-c31d-5c0f63d21224"
      },
      "execution_count": 12,
      "outputs": [
        {
          "output_type": "stream",
          "name": "stdout",
          "text": [
            "Original DataFrame:\n",
            "                     Email\n",
            "0     john.doe@example.com\n",
            "1   jane.smith@example.com\n",
            "2  james.brown@example.com\n",
            "\n",
            "DataFrame with Username column:\n",
            "                     Email     Username\n",
            "0     john.doe@example.com     john.doe\n",
            "1   jane.smith@example.com   jane.smith\n",
            "2  james.brown@example.com  james.brown\n"
          ]
        }
      ]
    },
    {
      "cell_type": "markdown",
      "source": [
        "# **Q8**\n",
        "\n",
        "**You have a Pandas DataFrame df with columns 'A', 'B', and 'C'. Write a Python function that select all rows where the value in column 'A' is greater than 5 and the value in column 'B' is less than 10. The function should return a new DataFrame that contains only the selected rows.**\n",
        "\n",
        "**Answer:**\n",
        "\n"
      ],
      "metadata": {
        "id": "3G0ciV2Ps1aB"
      }
    },
    {
      "cell_type": "code",
      "source": [
        "def select_rows(df):\n",
        "    selected_rows = df[(df['A'] > 5) & (df['B'] < 10)]\n",
        "    return selected_rows\n",
        "\n",
        "# Example usage\n",
        "data = {'A': [3, 8, 6, 2, 9],\n",
        "        'B': [5, 2, 9, 3, 1],\n",
        "        'C': [1, 7, 4, 5, 2]}\n",
        "df = pd.DataFrame(data)\n",
        "\n",
        "# Print the original DataFrame\n",
        "print(\"Original DataFrame:\")\n",
        "print(df)\n",
        "\n",
        "# Select rows based on conditions and create a new DataFrame\n",
        "selected_df = select_rows(df)\n",
        "\n",
        "# Print the selected DataFrame\n",
        "print(\"\\nSelected DataFrame:\")\n",
        "print(selected_df)"
      ],
      "metadata": {
        "colab": {
          "base_uri": "https://localhost:8080/"
        },
        "id": "B76IdS_3uYVq",
        "outputId": "a85d3555-912f-46c3-ae61-98ba94d9cefa"
      },
      "execution_count": 13,
      "outputs": [
        {
          "output_type": "stream",
          "name": "stdout",
          "text": [
            "Original DataFrame:\n",
            "   A  B  C\n",
            "0  3  5  1\n",
            "1  8  2  7\n",
            "2  6  9  4\n",
            "3  2  3  5\n",
            "4  9  1  2\n",
            "\n",
            "Selected DataFrame:\n",
            "   A  B  C\n",
            "1  8  2  7\n",
            "2  6  9  4\n",
            "4  9  1  2\n"
          ]
        }
      ]
    },
    {
      "cell_type": "markdown",
      "source": [
        "# **Q9**\n",
        "\n",
        "**Given a Pandas DataFrame df with a column 'Values', write a Python function to calculate the mean, median, and standard deviation of the values in the 'Values' column.**\n",
        "\n",
        "**Answer:**\n",
        "\n"
      ],
      "metadata": {
        "id": "KRYr3D2Vs3hV"
      }
    },
    {
      "cell_type": "code",
      "source": [
        "def calculate_stats(df, column):\n",
        "    mean_value = df[column].mean()\n",
        "    median_value = df[column].median()\n",
        "    std_value = df[column].std()\n",
        "    return mean_value, median_value, std_value\n",
        "\n",
        "# Example usage\n",
        "data = {'Values': [10, 20, 30, 40, 50]}\n",
        "df = pd.DataFrame(data)\n",
        "\n",
        "# Print the original DataFrame\n",
        "print(\"Original DataFrame:\")\n",
        "print(df)\n",
        "\n",
        "# Calculate mean, median, and standard deviation\n",
        "mean, median, std = calculate_stats(df, 'Values')\n",
        "\n",
        "# Print the calculated statistics\n",
        "print(\"\\nMean:\", mean)\n",
        "print(\"Median:\", median)\n",
        "print(\"Standard Deviation:\", std)"
      ],
      "metadata": {
        "colab": {
          "base_uri": "https://localhost:8080/"
        },
        "id": "EGySehMRuxGe",
        "outputId": "7092b389-b286-4358-e5f8-edc096fa8b20"
      },
      "execution_count": 14,
      "outputs": [
        {
          "output_type": "stream",
          "name": "stdout",
          "text": [
            "Original DataFrame:\n",
            "   Values\n",
            "0      10\n",
            "1      20\n",
            "2      30\n",
            "3      40\n",
            "4      50\n",
            "\n",
            "Mean: 30.0\n",
            "Median: 30.0\n",
            "Standard Deviation: 15.811388300841896\n"
          ]
        }
      ]
    },
    {
      "cell_type": "markdown",
      "source": [
        "# **Q10**\n",
        "\n",
        "**Given a Pandas DataFrame df with a column 'Sales' and a column 'Date', write a Python function to\n",
        "create a new column 'MovingAverage' that contains the moving average of the sales for the past 7 days\n",
        "for each row in the DataFrame. The moving average should be calculated using a window of size 7 and\n",
        "should include the current day.**\n",
        "\n",
        "**Answer:**\n",
        "\n"
      ],
      "metadata": {
        "id": "k4UDJ4dDs44K"
      }
    },
    {
      "cell_type": "code",
      "source": [
        "def calculate_moving_average(df):\n",
        "    window_size = 7\n",
        "    df['MovingAverage'] = df['Sales'].rolling(window_size, min_periods=1).mean()\n",
        "    return df\n",
        "\n",
        "# Example usage\n",
        "data = {'Sales': [10, 20, 30, 40, 50, 60, 70, 80, 90, 100],\n",
        "        'Date': pd.date_range('2023-01-01', periods=10)}\n",
        "df = pd.DataFrame(data)\n",
        "\n",
        "# Print the original DataFrame\n",
        "print(\"Original DataFrame:\")\n",
        "print(df)\n",
        "\n",
        "# Calculate the moving average and create the 'MovingAverage' column\n",
        "df_with_ma = calculate_moving_average(df)\n",
        "\n",
        "# Print the DataFrame with the 'MovingAverage' column\n",
        "print(\"\\nDataFrame with MovingAverage column:\")\n",
        "print(df_with_ma)\n"
      ],
      "metadata": {
        "colab": {
          "base_uri": "https://localhost:8080/"
        },
        "id": "7Sdaa-wVvGQU",
        "outputId": "114b2ec5-6319-4ee9-d2e9-cb0b247134c4"
      },
      "execution_count": 15,
      "outputs": [
        {
          "output_type": "stream",
          "name": "stdout",
          "text": [
            "Original DataFrame:\n",
            "   Sales       Date\n",
            "0     10 2023-01-01\n",
            "1     20 2023-01-02\n",
            "2     30 2023-01-03\n",
            "3     40 2023-01-04\n",
            "4     50 2023-01-05\n",
            "5     60 2023-01-06\n",
            "6     70 2023-01-07\n",
            "7     80 2023-01-08\n",
            "8     90 2023-01-09\n",
            "9    100 2023-01-10\n",
            "\n",
            "DataFrame with MovingAverage column:\n",
            "   Sales       Date  MovingAverage\n",
            "0     10 2023-01-01           10.0\n",
            "1     20 2023-01-02           15.0\n",
            "2     30 2023-01-03           20.0\n",
            "3     40 2023-01-04           25.0\n",
            "4     50 2023-01-05           30.0\n",
            "5     60 2023-01-06           35.0\n",
            "6     70 2023-01-07           40.0\n",
            "7     80 2023-01-08           50.0\n",
            "8     90 2023-01-09           60.0\n",
            "9    100 2023-01-10           70.0\n"
          ]
        }
      ]
    },
    {
      "cell_type": "markdown",
      "source": [
        "# **Q11**\n",
        "\n",
        "**You have a Pandas DataFrame df with a column 'Date'. Write a Python function that creates a new\n",
        "column 'Weekday' in the DataFrame. The 'Weekday' column should contain the weekday name (e.g.\n",
        "Monday, Tuesday) corresponding to each date in the 'Date' column.\n",
        "For example, if df contains the following values:\n",
        "Date\n",
        "\n",
        "    0 2023-01-01\n",
        "    1 2023-01-02\n",
        "    2 2023-01-03\n",
        "    3 2023-01-04\n",
        "    4 2023-01-05\n",
        "Your function should create the following DataFrame:\n",
        "\n",
        "    Date Weekday\n",
        "    0 2023-01-01 Sunday\n",
        "    1 2023-01-02 Monday\n",
        "    2 2023-01-03 Tuesday\n",
        "    3 2023-01-04 Wednesday\n",
        "    4 2023-01-05 Thursday\n",
        "The function should return the modified DataFrame.\n",
        "\n",
        "**Answer:**\n",
        "\n"
      ],
      "metadata": {
        "id": "lJX4r6nKs6bG"
      }
    },
    {
      "cell_type": "code",
      "source": [
        "data = {'Date': pd.to_datetime(['2023-01-01', '2023-01-02', '2023-01-03', '2023-01-04', '2023-01-05'])}\n",
        "df = pd.DataFrame(data)"
      ],
      "metadata": {
        "id": "nQeTQMhhwHgF"
      },
      "execution_count": 23,
      "outputs": []
    },
    {
      "cell_type": "code",
      "source": [
        "df"
      ],
      "metadata": {
        "colab": {
          "base_uri": "https://localhost:8080/",
          "height": 206
        },
        "id": "U8C3WDM6xHHv",
        "outputId": "093cf42c-bb2b-4ba7-c0d5-1bfa37699ca2"
      },
      "execution_count": 24,
      "outputs": [
        {
          "output_type": "execute_result",
          "data": {
            "text/plain": [
              "        Date\n",
              "0 2023-01-01\n",
              "1 2023-01-02\n",
              "2 2023-01-03\n",
              "3 2023-01-04\n",
              "4 2023-01-05"
            ],
            "text/html": [
              "\n",
              "  <div id=\"df-df6f6b8e-2d4c-4fd7-a23b-7c8ce421d2ae\">\n",
              "    <div class=\"colab-df-container\">\n",
              "      <div>\n",
              "<style scoped>\n",
              "    .dataframe tbody tr th:only-of-type {\n",
              "        vertical-align: middle;\n",
              "    }\n",
              "\n",
              "    .dataframe tbody tr th {\n",
              "        vertical-align: top;\n",
              "    }\n",
              "\n",
              "    .dataframe thead th {\n",
              "        text-align: right;\n",
              "    }\n",
              "</style>\n",
              "<table border=\"1\" class=\"dataframe\">\n",
              "  <thead>\n",
              "    <tr style=\"text-align: right;\">\n",
              "      <th></th>\n",
              "      <th>Date</th>\n",
              "    </tr>\n",
              "  </thead>\n",
              "  <tbody>\n",
              "    <tr>\n",
              "      <th>0</th>\n",
              "      <td>2023-01-01</td>\n",
              "    </tr>\n",
              "    <tr>\n",
              "      <th>1</th>\n",
              "      <td>2023-01-02</td>\n",
              "    </tr>\n",
              "    <tr>\n",
              "      <th>2</th>\n",
              "      <td>2023-01-03</td>\n",
              "    </tr>\n",
              "    <tr>\n",
              "      <th>3</th>\n",
              "      <td>2023-01-04</td>\n",
              "    </tr>\n",
              "    <tr>\n",
              "      <th>4</th>\n",
              "      <td>2023-01-05</td>\n",
              "    </tr>\n",
              "  </tbody>\n",
              "</table>\n",
              "</div>\n",
              "      <button class=\"colab-df-convert\" onclick=\"convertToInteractive('df-df6f6b8e-2d4c-4fd7-a23b-7c8ce421d2ae')\"\n",
              "              title=\"Convert this dataframe to an interactive table.\"\n",
              "              style=\"display:none;\">\n",
              "        \n",
              "  <svg xmlns=\"http://www.w3.org/2000/svg\" height=\"24px\"viewBox=\"0 0 24 24\"\n",
              "       width=\"24px\">\n",
              "    <path d=\"M0 0h24v24H0V0z\" fill=\"none\"/>\n",
              "    <path d=\"M18.56 5.44l.94 2.06.94-2.06 2.06-.94-2.06-.94-.94-2.06-.94 2.06-2.06.94zm-11 1L8.5 8.5l.94-2.06 2.06-.94-2.06-.94L8.5 2.5l-.94 2.06-2.06.94zm10 10l.94 2.06.94-2.06 2.06-.94-2.06-.94-.94-2.06-.94 2.06-2.06.94z\"/><path d=\"M17.41 7.96l-1.37-1.37c-.4-.4-.92-.59-1.43-.59-.52 0-1.04.2-1.43.59L10.3 9.45l-7.72 7.72c-.78.78-.78 2.05 0 2.83L4 21.41c.39.39.9.59 1.41.59.51 0 1.02-.2 1.41-.59l7.78-7.78 2.81-2.81c.8-.78.8-2.07 0-2.86zM5.41 20L4 18.59l7.72-7.72 1.47 1.35L5.41 20z\"/>\n",
              "  </svg>\n",
              "      </button>\n",
              "      \n",
              "  <style>\n",
              "    .colab-df-container {\n",
              "      display:flex;\n",
              "      flex-wrap:wrap;\n",
              "      gap: 12px;\n",
              "    }\n",
              "\n",
              "    .colab-df-convert {\n",
              "      background-color: #E8F0FE;\n",
              "      border: none;\n",
              "      border-radius: 50%;\n",
              "      cursor: pointer;\n",
              "      display: none;\n",
              "      fill: #1967D2;\n",
              "      height: 32px;\n",
              "      padding: 0 0 0 0;\n",
              "      width: 32px;\n",
              "    }\n",
              "\n",
              "    .colab-df-convert:hover {\n",
              "      background-color: #E2EBFA;\n",
              "      box-shadow: 0px 1px 2px rgba(60, 64, 67, 0.3), 0px 1px 3px 1px rgba(60, 64, 67, 0.15);\n",
              "      fill: #174EA6;\n",
              "    }\n",
              "\n",
              "    [theme=dark] .colab-df-convert {\n",
              "      background-color: #3B4455;\n",
              "      fill: #D2E3FC;\n",
              "    }\n",
              "\n",
              "    [theme=dark] .colab-df-convert:hover {\n",
              "      background-color: #434B5C;\n",
              "      box-shadow: 0px 1px 3px 1px rgba(0, 0, 0, 0.15);\n",
              "      filter: drop-shadow(0px 1px 2px rgba(0, 0, 0, 0.3));\n",
              "      fill: #FFFFFF;\n",
              "    }\n",
              "  </style>\n",
              "\n",
              "      <script>\n",
              "        const buttonEl =\n",
              "          document.querySelector('#df-df6f6b8e-2d4c-4fd7-a23b-7c8ce421d2ae button.colab-df-convert');\n",
              "        buttonEl.style.display =\n",
              "          google.colab.kernel.accessAllowed ? 'block' : 'none';\n",
              "\n",
              "        async function convertToInteractive(key) {\n",
              "          const element = document.querySelector('#df-df6f6b8e-2d4c-4fd7-a23b-7c8ce421d2ae');\n",
              "          const dataTable =\n",
              "            await google.colab.kernel.invokeFunction('convertToInteractive',\n",
              "                                                     [key], {});\n",
              "          if (!dataTable) return;\n",
              "\n",
              "          const docLinkHtml = 'Like what you see? Visit the ' +\n",
              "            '<a target=\"_blank\" href=https://colab.research.google.com/notebooks/data_table.ipynb>data table notebook</a>'\n",
              "            + ' to learn more about interactive tables.';\n",
              "          element.innerHTML = '';\n",
              "          dataTable['output_type'] = 'display_data';\n",
              "          await google.colab.output.renderOutput(dataTable, element);\n",
              "          const docLink = document.createElement('div');\n",
              "          docLink.innerHTML = docLinkHtml;\n",
              "          element.appendChild(docLink);\n",
              "        }\n",
              "      </script>\n",
              "    </div>\n",
              "  </div>\n",
              "  "
            ]
          },
          "metadata": {},
          "execution_count": 24
        }
      ]
    },
    {
      "cell_type": "code",
      "source": [
        "df['weekday'] = df['Date'].dt.day"
      ],
      "metadata": {
        "id": "oVPsHaTIxQ4o"
      },
      "execution_count": 25,
      "outputs": []
    },
    {
      "cell_type": "code",
      "source": [
        "df"
      ],
      "metadata": {
        "colab": {
          "base_uri": "https://localhost:8080/",
          "height": 206
        },
        "id": "ubkTYb-kxYLr",
        "outputId": "ca6d610b-aac0-475c-ccac-29cfcf24173e"
      },
      "execution_count": 26,
      "outputs": [
        {
          "output_type": "execute_result",
          "data": {
            "text/plain": [
              "        Date  weekday\n",
              "0 2023-01-01        1\n",
              "1 2023-01-02        2\n",
              "2 2023-01-03        3\n",
              "3 2023-01-04        4\n",
              "4 2023-01-05        5"
            ],
            "text/html": [
              "\n",
              "  <div id=\"df-319d8763-c05c-4ab5-a688-5a97c1b4de2a\">\n",
              "    <div class=\"colab-df-container\">\n",
              "      <div>\n",
              "<style scoped>\n",
              "    .dataframe tbody tr th:only-of-type {\n",
              "        vertical-align: middle;\n",
              "    }\n",
              "\n",
              "    .dataframe tbody tr th {\n",
              "        vertical-align: top;\n",
              "    }\n",
              "\n",
              "    .dataframe thead th {\n",
              "        text-align: right;\n",
              "    }\n",
              "</style>\n",
              "<table border=\"1\" class=\"dataframe\">\n",
              "  <thead>\n",
              "    <tr style=\"text-align: right;\">\n",
              "      <th></th>\n",
              "      <th>Date</th>\n",
              "      <th>weekday</th>\n",
              "    </tr>\n",
              "  </thead>\n",
              "  <tbody>\n",
              "    <tr>\n",
              "      <th>0</th>\n",
              "      <td>2023-01-01</td>\n",
              "      <td>1</td>\n",
              "    </tr>\n",
              "    <tr>\n",
              "      <th>1</th>\n",
              "      <td>2023-01-02</td>\n",
              "      <td>2</td>\n",
              "    </tr>\n",
              "    <tr>\n",
              "      <th>2</th>\n",
              "      <td>2023-01-03</td>\n",
              "      <td>3</td>\n",
              "    </tr>\n",
              "    <tr>\n",
              "      <th>3</th>\n",
              "      <td>2023-01-04</td>\n",
              "      <td>4</td>\n",
              "    </tr>\n",
              "    <tr>\n",
              "      <th>4</th>\n",
              "      <td>2023-01-05</td>\n",
              "      <td>5</td>\n",
              "    </tr>\n",
              "  </tbody>\n",
              "</table>\n",
              "</div>\n",
              "      <button class=\"colab-df-convert\" onclick=\"convertToInteractive('df-319d8763-c05c-4ab5-a688-5a97c1b4de2a')\"\n",
              "              title=\"Convert this dataframe to an interactive table.\"\n",
              "              style=\"display:none;\">\n",
              "        \n",
              "  <svg xmlns=\"http://www.w3.org/2000/svg\" height=\"24px\"viewBox=\"0 0 24 24\"\n",
              "       width=\"24px\">\n",
              "    <path d=\"M0 0h24v24H0V0z\" fill=\"none\"/>\n",
              "    <path d=\"M18.56 5.44l.94 2.06.94-2.06 2.06-.94-2.06-.94-.94-2.06-.94 2.06-2.06.94zm-11 1L8.5 8.5l.94-2.06 2.06-.94-2.06-.94L8.5 2.5l-.94 2.06-2.06.94zm10 10l.94 2.06.94-2.06 2.06-.94-2.06-.94-.94-2.06-.94 2.06-2.06.94z\"/><path d=\"M17.41 7.96l-1.37-1.37c-.4-.4-.92-.59-1.43-.59-.52 0-1.04.2-1.43.59L10.3 9.45l-7.72 7.72c-.78.78-.78 2.05 0 2.83L4 21.41c.39.39.9.59 1.41.59.51 0 1.02-.2 1.41-.59l7.78-7.78 2.81-2.81c.8-.78.8-2.07 0-2.86zM5.41 20L4 18.59l7.72-7.72 1.47 1.35L5.41 20z\"/>\n",
              "  </svg>\n",
              "      </button>\n",
              "      \n",
              "  <style>\n",
              "    .colab-df-container {\n",
              "      display:flex;\n",
              "      flex-wrap:wrap;\n",
              "      gap: 12px;\n",
              "    }\n",
              "\n",
              "    .colab-df-convert {\n",
              "      background-color: #E8F0FE;\n",
              "      border: none;\n",
              "      border-radius: 50%;\n",
              "      cursor: pointer;\n",
              "      display: none;\n",
              "      fill: #1967D2;\n",
              "      height: 32px;\n",
              "      padding: 0 0 0 0;\n",
              "      width: 32px;\n",
              "    }\n",
              "\n",
              "    .colab-df-convert:hover {\n",
              "      background-color: #E2EBFA;\n",
              "      box-shadow: 0px 1px 2px rgba(60, 64, 67, 0.3), 0px 1px 3px 1px rgba(60, 64, 67, 0.15);\n",
              "      fill: #174EA6;\n",
              "    }\n",
              "\n",
              "    [theme=dark] .colab-df-convert {\n",
              "      background-color: #3B4455;\n",
              "      fill: #D2E3FC;\n",
              "    }\n",
              "\n",
              "    [theme=dark] .colab-df-convert:hover {\n",
              "      background-color: #434B5C;\n",
              "      box-shadow: 0px 1px 3px 1px rgba(0, 0, 0, 0.15);\n",
              "      filter: drop-shadow(0px 1px 2px rgba(0, 0, 0, 0.3));\n",
              "      fill: #FFFFFF;\n",
              "    }\n",
              "  </style>\n",
              "\n",
              "      <script>\n",
              "        const buttonEl =\n",
              "          document.querySelector('#df-319d8763-c05c-4ab5-a688-5a97c1b4de2a button.colab-df-convert');\n",
              "        buttonEl.style.display =\n",
              "          google.colab.kernel.accessAllowed ? 'block' : 'none';\n",
              "\n",
              "        async function convertToInteractive(key) {\n",
              "          const element = document.querySelector('#df-319d8763-c05c-4ab5-a688-5a97c1b4de2a');\n",
              "          const dataTable =\n",
              "            await google.colab.kernel.invokeFunction('convertToInteractive',\n",
              "                                                     [key], {});\n",
              "          if (!dataTable) return;\n",
              "\n",
              "          const docLinkHtml = 'Like what you see? Visit the ' +\n",
              "            '<a target=\"_blank\" href=https://colab.research.google.com/notebooks/data_table.ipynb>data table notebook</a>'\n",
              "            + ' to learn more about interactive tables.';\n",
              "          element.innerHTML = '';\n",
              "          dataTable['output_type'] = 'display_data';\n",
              "          await google.colab.output.renderOutput(dataTable, element);\n",
              "          const docLink = document.createElement('div');\n",
              "          docLink.innerHTML = docLinkHtml;\n",
              "          element.appendChild(docLink);\n",
              "        }\n",
              "      </script>\n",
              "    </div>\n",
              "  </div>\n",
              "  "
            ]
          },
          "metadata": {},
          "execution_count": 26
        }
      ]
    },
    {
      "cell_type": "markdown",
      "source": [
        "# **Q12**\n",
        "\n",
        "**Given a Pandas DataFrame df with a column 'Date' that contains timestamps, write a Pythonfunction to select all rows where the date is between '2023-01-01' and '2023-01-31'.**\n",
        "\n",
        "**Answer:**\n",
        "\n"
      ],
      "metadata": {
        "id": "xuEEoGaXs7n-"
      }
    },
    {
      "cell_type": "code",
      "source": [
        "def select_rows_by_date(df, start_date, end_date):\n",
        "    mask = (df['Date'] >= start_date) & (df['Date'] <= end_date)\n",
        "    selected_rows = df[mask]\n",
        "    return selected_rows\n",
        "\n",
        "# Example usage\n",
        "data = {'Date': pd.to_datetime(['2023-01-01', '2023-01-15', '2023-01-30', '2023-02-05'])}\n",
        "df = pd.DataFrame(data)\n",
        "\n",
        "# Print the original DataFrame\n",
        "print(\"Original DataFrame:\")\n",
        "print(df)\n",
        "\n",
        "# Select rows between '2023-01-01' and '2023-01-31'\n",
        "start_date = '2023-01-01'\n",
        "end_date = '2023-01-31'\n",
        "selected_df = select_rows_by_date(df, start_date, end_date)\n",
        "\n",
        "# Print the selected DataFrame\n",
        "print(\"\\nSelected DataFrame:\")\n",
        "print(selected_df)"
      ],
      "metadata": {
        "colab": {
          "base_uri": "https://localhost:8080/"
        },
        "id": "kct6qtGQxybZ",
        "outputId": "b9d83892-6305-40f3-93f6-f259917d6d41"
      },
      "execution_count": 27,
      "outputs": [
        {
          "output_type": "stream",
          "name": "stdout",
          "text": [
            "Original DataFrame:\n",
            "        Date\n",
            "0 2023-01-01\n",
            "1 2023-01-15\n",
            "2 2023-01-30\n",
            "3 2023-02-05\n",
            "\n",
            "Selected DataFrame:\n",
            "        Date\n",
            "0 2023-01-01\n",
            "1 2023-01-15\n",
            "2 2023-01-30\n"
          ]
        }
      ]
    },
    {
      "cell_type": "markdown",
      "source": [
        "# **Q13**\n",
        "\n",
        "**To use the basic functions of pandas, what is the first and foremost necessary library that needs to be imported?**\n",
        "\n",
        "**Answer:**\n",
        "\n",
        "To use the basic functions of pandas, the first and foremost necessary library that needs to be imported is the pandas library itself.\n"
      ],
      "metadata": {
        "id": "Hm5QLAAMs9Gn"
      }
    },
    {
      "cell_type": "code",
      "source": [
        "import pandas as pd"
      ],
      "metadata": {
        "id": "Fl0Pvz7Yx7Xz"
      },
      "execution_count": null,
      "outputs": []
    },
    {
      "cell_type": "markdown",
      "source": [
        "By importing pandas with the alias 'pd', you can access the various functions and classes provided by the pandas library. This includes functions for data manipulation, analysis, and data structure creation, such as creating DataFrames, performing operations on columns, applying filters, and much more."
      ],
      "metadata": {
        "id": "n3QJvgDnx9sB"
      }
    }
  ]
}